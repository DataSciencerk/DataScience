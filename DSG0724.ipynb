{
 "cells": [
  {
   "cell_type": "code",
   "execution_count": 6,
   "id": "ab6faea2-b66f-4eb6-9b40-0fb484cef919",
   "metadata": {},
   "outputs": [
    {
     "name": "stdout",
     "output_type": "stream",
     "text": [
      "Hello Data Science World!\n"
     ]
    }
   ],
   "source": [
    "#Python is a case sensitive language. Python is an interpreted language. \n",
    "\n",
    "print(\"Hello Data Science World!\")"
   ]
  },
  {
   "cell_type": "raw",
   "id": "a15e3cb9-18d0-432a-86ad-e88d951fa4b8",
   "metadata": {},
   "source": [
    "Python is a case sensitive language\n",
    "\n",
    "8*2+3"
   ]
  },
  {
   "cell_type": "code",
   "execution_count": null,
   "id": "bce8f203-2b69-429a-8416-7227d7ecb215",
   "metadata": {},
   "outputs": [],
   "source": [
    "#"
   ]
  },
  {
   "cell_type": "markdown",
   "id": "5ff40ed7-7875-455d-8a4c-f70b65cebdc1",
   "metadata": {},
   "source": [
    "Shortcuts\n",
    "\n",
    "\n",
    "to add the cell above the current cell- Esc +A\n",
    "\n",
    "to add the cell below the current cell- ESC+B\n",
    "\n",
    "To delete a cell- ESC+D+D\n",
    "\n",
    "to execute a cell- ctrl+enter or shift +enter"
   ]
  },
  {
   "cell_type": "code",
   "execution_count": 3,
   "id": "429d74b7-bf07-426f-ba19-7d00fad5b044",
   "metadata": {},
   "outputs": [
    {
     "data": {
      "text/plain": [
       "18"
      ]
     },
     "execution_count": 3,
     "metadata": {},
     "output_type": "execute_result"
    }
   ],
   "source": [
    "8+10"
   ]
  },
  {
   "cell_type": "code",
   "execution_count": 4,
   "id": "c1e57073-7021-458c-9d0c-98fe4f91e7f6",
   "metadata": {},
   "outputs": [
    {
     "data": {
      "text/plain": [
       "4.0"
      ]
     },
     "execution_count": 4,
     "metadata": {},
     "output_type": "execute_result"
    }
   ],
   "source": [
    "8/2"
   ]
  },
  {
   "cell_type": "code",
   "execution_count": 5,
   "id": "ffe9a9fa-bbe1-466d-9e96-0bdf14175bd5",
   "metadata": {},
   "outputs": [
    {
     "name": "stdout",
     "output_type": "stream",
     "text": [
      "Hello Data Science World!\n"
     ]
    }
   ],
   "source": [
    "print(\"Hello Data Science World!\")"
   ]
  },
  {
   "cell_type": "code",
   "execution_count": null,
   "id": "3ea51071-5d9c-47a8-b6d2-8feafb02b540",
   "metadata": {},
   "outputs": [],
   "source": []
  }
 ],
 "metadata": {
  "kernelspec": {
   "display_name": "Python 3 (ipykernel)",
   "language": "python",
   "name": "python3"
  },
  "language_info": {
   "codemirror_mode": {
    "name": "ipython",
    "version": 3
   },
   "file_extension": ".py",
   "mimetype": "text/x-python",
   "name": "python",
   "nbconvert_exporter": "python",
   "pygments_lexer": "ipython3",
   "version": "3.12.4"
  }
 },
 "nbformat": 4,
 "nbformat_minor": 5
}
